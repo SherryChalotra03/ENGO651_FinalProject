{
 "cells": [
  {
   "cell_type": "markdown",
   "metadata": {},
   "source": [
    "1. Install Python Libraries: Ensure you have osmnx, geopandas, and geojson installed\n",
    "pip install osmnx geopandas geojson"
   ]
  },
  {
   "cell_type": "markdown",
   "metadata": {},
   "source": [
    "2. Extract OSM Road Network with osmnx\n",
    "Since your project uses osmnx, let’s fetch Calgary’s road network and export it as GeoJSON (compatible with Mapbox/Leaflet)."
   ]
  },
  {
   "cell_type": "code",
   "execution_count": 24,
   "metadata": {},
   "outputs": [],
   "source": [
    "import osmnx as ox  # type: ignore\n",
    "import geopandas as gpd"
   ]
  },
  {
   "cell_type": "code",
   "execution_count": 14,
   "metadata": {},
   "outputs": [],
   "source": [
    "# Define the place (Calgary)\n",
    "place_name = \"Calgary, Alberta, Canada\"\n",
    "\n",
    "# Fetch the road network (drivable roads)\n",
    "G = ox.graph_from_place(place_name, network_type=\"drive\")\n",
    "\n",
    "# Convert the graph to GeoDataFrames (nodes and edges)\n",
    "nodes, edges = ox.graph_to_gdfs(G)\n"
   ]
  },
  {
   "cell_type": "code",
   "execution_count": 15,
   "metadata": {},
   "outputs": [
    {
     "name": "stdout",
     "output_type": "stream",
     "text": [
      "Available columns in edges: ['osmid', 'highway', 'lanes', 'maxspeed', 'name', 'oneway', 'ref', 'reversed', 'length', 'geometry', 'width', 'bridge', 'tunnel', 'junction', 'access']\n",
      "Number of edges in G: 36044\n",
      "Number of rows in edges GeoDataFrame: 84931\n"
     ]
    }
   ],
   "source": [
    "#Before saving\n",
    "print(\"Available columns in edges:\", edges.columns.tolist())\n",
    "print(f\"Number of edges in G: {len(G)}\")\n",
    "print(f\"Number of rows in edges GeoDataFrame: {len(edges)}\")"
   ]
  },
  {
   "cell_type": "code",
   "execution_count": null,
   "metadata": {},
   "outputs": [],
   "source": [
    "# Save edges as GeoJSON (this will be your road network)\n",
    "edges.to_file(\"calgary_roads.geojson\", driver=\"GeoJSON\")\n",
    "\n",
    "print(\"Calgary road network saved as calgary_roads.geojson\")"
   ]
  },
  {
   "cell_type": "code",
   "execution_count": 3,
   "metadata": {},
   "outputs": [
    {
     "name": "stdout",
     "output_type": "stream",
     "text": [
      "Available columns in edges: ['osmid', 'highway', 'lanes', 'maxspeed', 'name', 'oneway', 'ref', 'reversed', 'length', 'geometry', 'width', 'bridge', 'tunnel', 'junction', 'access']\n"
     ]
    }
   ],
   "source": [
    "# Inspect available columns\n",
    "print(\"Available columns in edges:\", edges.columns.tolist())"
   ]
  },
  {
   "cell_type": "markdown",
   "metadata": {},
   "source": [
    "Dataset exploration for analysing the max speed feature "
   ]
  },
  {
   "cell_type": "code",
   "execution_count": 9,
   "metadata": {},
   "outputs": [
    {
     "name": "stdout",
     "output_type": "stream",
     "text": [
      "Total number of edges: 36044\n"
     ]
    }
   ],
   "source": [
    "# Total number of edges (rows)\n",
    "total_edges = len(G)\n",
    "print(f\"Total number of edges: {total_edges}\")"
   ]
  },
  {
   "cell_type": "code",
   "execution_count": 12,
   "metadata": {},
   "outputs": [
    {
     "name": "stderr",
     "output_type": "stream",
     "text": [
      "Skipping field highway: unsupported OGR type: 5\n",
      "Skipping field lanes: unsupported OGR type: 5\n",
      "Skipping field maxspeed: unsupported OGR type: 5\n",
      "Skipping field name: unsupported OGR type: 5\n",
      "Skipping field access: unsupported OGR type: 5\n"
     ]
    },
    {
     "name": "stdout",
     "output_type": "stream",
     "text": [
      "Available columns: ['u', 'v', 'key', 'osmid', 'oneway', 'ref', 'reversed', 'length', 'width', 'bridge', 'tunnel', 'junction', 'geometry']\n",
      "Total number of edges: 84931\n"
     ]
    }
   ],
   "source": [
    "gdf = gpd.read_file('calgary_roads.geojson')\n",
    "\n",
    "# Display the available columns\n",
    "print(\"Available columns:\", gdf.columns.tolist())\n",
    "\n",
    "# Total number of edges (rows)\n",
    "total_edges = len(gdf)\n",
    "print(f\"Total number of edges: {total_edges}\")"
   ]
  },
  {
   "cell_type": "code",
   "execution_count": 10,
   "metadata": {},
   "outputs": [
    {
     "ename": "KeyError",
     "evalue": "'maxspeed'",
     "output_type": "error",
     "traceback": [
      "\u001b[31m---------------------------------------------------------------------------\u001b[39m",
      "\u001b[31mKeyError\u001b[39m                                  Traceback (most recent call last)",
      "\u001b[36mCell\u001b[39m\u001b[36m \u001b[39m\u001b[32mIn[10]\u001b[39m\u001b[32m, line 3\u001b[39m\n\u001b[32m      1\u001b[39m \u001b[38;5;66;03m# --- Analyze missing 'maxspeed' values overall ---\u001b[39;00m\n\u001b[32m      2\u001b[39m \u001b[38;5;66;03m# Count the number of edges with missing 'maxspeed'\u001b[39;00m\n\u001b[32m----> \u001b[39m\u001b[32m3\u001b[39m missing_maxspeed = \u001b[43mG\u001b[49m\u001b[43m[\u001b[49m\u001b[33;43m'\u001b[39;49m\u001b[33;43mmaxspeed\u001b[39;49m\u001b[33;43m'\u001b[39;49m\u001b[43m]\u001b[49m.isna().sum()\n\u001b[32m      4\u001b[39m percent_missing_maxspeed = (missing_maxspeed / total_edges) * \u001b[32m100\u001b[39m\n\u001b[32m      5\u001b[39m \u001b[38;5;28mprint\u001b[39m(\u001b[33mf\u001b[39m\u001b[33m\"\u001b[39m\u001b[33mNumber of edges missing \u001b[39m\u001b[33m'\u001b[39m\u001b[33mmaxspeed\u001b[39m\u001b[33m'\u001b[39m\u001b[33m: \u001b[39m\u001b[38;5;132;01m{\u001b[39;00mmissing_maxspeed\u001b[38;5;132;01m}\u001b[39;00m\u001b[33m\"\u001b[39m)\n",
      "\u001b[36mFile \u001b[39m\u001b[32mc:\\Users\\sherr\\OneDrive - University of Calgary\\ENGO651_FinalProject\\venv\\Lib\\site-packages\\networkx\\classes\\graph.py:522\u001b[39m, in \u001b[36mGraph.__getitem__\u001b[39m\u001b[34m(self, n)\u001b[39m\n\u001b[32m    498\u001b[39m \u001b[38;5;28;01mdef\u001b[39;00m\u001b[38;5;250m \u001b[39m\u001b[34m__getitem__\u001b[39m(\u001b[38;5;28mself\u001b[39m, n):\n\u001b[32m    499\u001b[39m \u001b[38;5;250m    \u001b[39m\u001b[33;03m\"\"\"Returns a dict of neighbors of node n.  Use: 'G[n]'.\u001b[39;00m\n\u001b[32m    500\u001b[39m \n\u001b[32m    501\u001b[39m \u001b[33;03m    Parameters\u001b[39;00m\n\u001b[32m   (...)\u001b[39m\u001b[32m    520\u001b[39m \u001b[33;03m    AtlasView({1: {}})\u001b[39;00m\n\u001b[32m    521\u001b[39m \u001b[33;03m    \"\"\"\u001b[39;00m\n\u001b[32m--> \u001b[39m\u001b[32m522\u001b[39m     \u001b[38;5;28;01mreturn\u001b[39;00m \u001b[38;5;28;43mself\u001b[39;49m\u001b[43m.\u001b[49m\u001b[43madj\u001b[49m\u001b[43m[\u001b[49m\u001b[43mn\u001b[49m\u001b[43m]\u001b[49m\n",
      "\u001b[36mFile \u001b[39m\u001b[32mc:\\Users\\sherr\\OneDrive - University of Calgary\\ENGO651_FinalProject\\venv\\Lib\\site-packages\\networkx\\classes\\coreviews.py:104\u001b[39m, in \u001b[36mMultiAdjacencyView.__getitem__\u001b[39m\u001b[34m(self, name)\u001b[39m\n\u001b[32m    103\u001b[39m \u001b[38;5;28;01mdef\u001b[39;00m\u001b[38;5;250m \u001b[39m\u001b[34m__getitem__\u001b[39m(\u001b[38;5;28mself\u001b[39m, name):\n\u001b[32m--> \u001b[39m\u001b[32m104\u001b[39m     \u001b[38;5;28;01mreturn\u001b[39;00m AdjacencyView(\u001b[38;5;28;43mself\u001b[39;49m\u001b[43m.\u001b[49m\u001b[43m_atlas\u001b[49m\u001b[43m[\u001b[49m\u001b[43mname\u001b[49m\u001b[43m]\u001b[49m)\n",
      "\u001b[31mKeyError\u001b[39m: 'maxspeed'"
     ]
    }
   ],
   "source": [
    "# --- Analyze missing 'maxspeed' values overall ---\n",
    "# Count the number of edges with missing 'maxspeed'\n",
    "missing_maxspeed = G['maxspeed'].isna().sum()\n",
    "percent_missing_maxspeed = (missing_maxspeed / total_edges) * 100\n",
    "print(f\"Number of edges missing 'maxspeed': {missing_maxspeed}\")\n",
    "print(f\"Percentage of edges missing 'maxspeed': {percent_missing_maxspeed:.2f}%\")"
   ]
  },
  {
   "cell_type": "code",
   "execution_count": 5,
   "metadata": {},
   "outputs": [
    {
     "name": "stdout",
     "output_type": "stream",
     "text": [
      "Downloading road network...\n"
     ]
    }
   ],
   "source": [
    "# Define the place\n",
    "place_name = \"Calgary, Alberta, Canada\"\n",
    "\n",
    "# Fetch the road network\n",
    "print(\"Downloading road network...\")\n",
    "G = ox.graph_from_place(place_name, network_type=\"drive\")"
   ]
  },
  {
   "cell_type": "code",
   "execution_count": 9,
   "metadata": {},
   "outputs": [
    {
     "name": "stdout",
     "output_type": "stream",
     "text": [
      "Added speeds and travel times to the graph\n",
      "Graph saved as calgary_roads.graphml\n"
     ]
    }
   ],
   "source": [
    "# Add edge speeds and travel times\n",
    "hwy_speeds = {\n",
    "    'motorway': 100,\n",
    "    'trunk': 80,\n",
    "    'primary': 60,\n",
    "    'secondary': 60,\n",
    "    'tertiary': 50,\n",
    "    'residential': 40,\n",
    "    'motorway_link': 60,\n",
    "    'primary_link': 50,\n",
    "    'secondary_link': 50,\n",
    "    'tertiary_link': 40\n",
    "}\n",
    "G = ox.add_edge_speeds(G, hwy_speeds=hwy_speeds)\n",
    "G = ox.add_edge_travel_times(G)\n",
    "print(\"Added speeds and travel times to the graph\")\n",
    "\n",
    "# Save the graph as GraphML\n",
    "ox.save_graphml(G, filepath=\"calgary_roads.graphml\")\n",
    "print(\"Graph saved as calgary_roads.graphml\")\n",
    "\n",
    "# Convert the graph to GeoDataFrames\n",
    "nodes, edges = ox.graph_to_gdfs(G)\n",
    "\n",
    "# Add the 'time' column to the edges GeoDataFrame (travel_time in seconds)\n",
    "edges['time'] = edges['travel_time']\n",
    "\n"
   ]
  },
  {
   "cell_type": "code",
   "execution_count": 10,
   "metadata": {},
   "outputs": [
    {
     "name": "stdout",
     "output_type": "stream",
     "text": [
      "Updated calgary_roads.geojson with 'time' column\n",
      "Available columns in edges: ['osmid', 'highway', 'lanes', 'maxspeed', 'name', 'oneway', 'ref', 'reversed', 'length', 'geometry', 'speed_kph', 'travel_time', 'width', 'bridge', 'tunnel', 'junction', 'access', 'time']\n",
      "Number of edges in G: 36044\n",
      "Number of rows in edges GeoDataFrame: 84931\n"
     ]
    }
   ],
   "source": [
    "# Preprocess columns to handle lists\n",
    "for col in ['osmid', 'highway', 'lanes', 'maxspeed', 'name', 'access', 'ref']:\n",
    "    edges[col] = edges[col].apply(lambda x: ','.join(map(str, x)) if isinstance(x, list) else x)\n",
    "\n",
    "# Save the updated edges as GeoJSON\n",
    "edges.to_file(\"calgary_roads.geojson\", driver=\"GeoJSON\")\n",
    "print(\"Updated calgary_roads.geojson with 'time' column\")\n",
    "print(\"Available columns in edges:\", edges.columns.tolist())\n",
    "print(f\"Number of edges in G: {len(G)}\")\n",
    "print(f\"Number of rows in edges GeoDataFrame: {len(edges)}\")"
   ]
  },
  {
   "cell_type": "markdown",
   "metadata": {},
   "source": [
    "3. regenerate calgary_roads.geojson with the required properties: \"incident_risk\" (e.g., from DBSCAN) \n",
    "Next: Update incident_risk with DBSCAN clustering logic"
   ]
  },
  {
   "cell_type": "code",
   "execution_count": 5,
   "metadata": {},
   "outputs": [
    {
     "name": "stdout",
     "output_type": "stream",
     "text": [
      "Added incident_risk column with default value 0.0\n"
     ]
    }
   ],
   "source": [
    "# Ensure osmid and name are present (osmnx should include these)\n",
    "# Add incident_risk if missing (dummy data for now)\n",
    "if 'incident_risk' not in edges.columns:\n",
    "    edges['incident_risk'] = 0.0  # Replace with your DBSCAN logic later\n",
    "    print(\"Added incident_risk column with default value 0.0\")"
   ]
  },
  {
   "cell_type": "code",
   "execution_count": 6,
   "metadata": {},
   "outputs": [
    {
     "name": "stdout",
     "output_type": "stream",
     "text": [
      "Saved calgary_roads.geojson with properties\n"
     ]
    }
   ],
   "source": [
    "# Save to GeoJSON\n",
    "edges.to_file(\"calgary_roads.geojson\", driver=\"GeoJSON\")\n",
    "print(\"Saved calgary_roads.geojson with properties\")"
   ]
  },
  {
   "cell_type": "code",
   "execution_count": 7,
   "metadata": {},
   "outputs": [
    {
     "name": "stdout",
     "output_type": "stream",
     "text": [
      "Available columns in edges: ['osmid', 'highway', 'lanes', 'maxspeed', 'name', 'oneway', 'ref', 'reversed', 'length', 'geometry', 'width', 'bridge', 'tunnel', 'junction', 'access', 'incident_risk']\n"
     ]
    }
   ],
   "source": [
    "# Inspect available columns\n",
    "print(\"Available columns in edges:\", edges.columns.tolist())"
   ]
  },
  {
   "cell_type": "code",
   "execution_count": 8,
   "metadata": {},
   "outputs": [
    {
     "name": "stdout",
     "output_type": "stream",
     "text": [
      "Graph saved as calgary_roads.graphml\n"
     ]
    }
   ],
   "source": [
    "# Save the graph as GraphML (or another format) to use it locally\n",
    "ox.save_graphml(G, filepath=\"calgary_roads.graphml\")\n",
    "print(\"Graph saved as calgary_roads.graphml\")"
   ]
  },
  {
   "cell_type": "code",
   "execution_count": 12,
   "metadata": {},
   "outputs": [
    {
     "name": "stdout",
     "output_type": "stream",
     "text": [
      "NetworkX version: 3.4.2\n",
      "k_shortest_paths available: False\n",
      "Error: module 'networkx' has no attribute 'k_shortest_paths'\n"
     ]
    }
   ],
   "source": [
    "import networkx as nx\n",
    "\n",
    "print(\"NetworkX version:\", nx.__version__)\n",
    "try:\n",
    "    print(\"k_shortest_paths available:\", hasattr(nx, 'k_shortest_paths'))\n",
    "    # Create a simple MultiDiGraph\n",
    "    G = nx.MultiDiGraph()\n",
    "    G.add_edge(0, 1, 0, weight=1)\n",
    "    G.add_edge(1, 2, 0, weight=1)\n",
    "    paths = list(nx.k_shortest_paths(G, 0, 2, k=1, weight='weight'))\n",
    "    print(\"Test path:\", paths)\n",
    "except AttributeError as e:\n",
    "    print(\"Error:\", str(e))"
   ]
  },
  {
   "cell_type": "code",
   "execution_count": 1,
   "metadata": {},
   "outputs": [
    {
     "name": "stdout",
     "output_type": "stream",
     "text": [
      "NetworkX version: 3.4.2\n",
      "k_shortest_paths available: False\n",
      "Error: module 'networkx' has no attribute 'k_shortest_paths'\n"
     ]
    }
   ],
   "source": [
    "# test_networkx.py\n",
    "import networkx as nx\n",
    "\n",
    "print(\"NetworkX version:\", nx.__version__)\n",
    "try:\n",
    "    print(\"k_shortest_paths available:\", hasattr(nx, 'k_shortest_paths'))\n",
    "    # Create a simple MultiDiGraph\n",
    "    G = nx.MultiDiGraph()\n",
    "    G.add_edge(0, 1, 0, weight=1)\n",
    "    G.add_edge(1, 2, 0, weight=1)\n",
    "    paths = list(nx.k_shortest_paths(G, 0, 2, k=1, weight='weight'))\n",
    "    print(\"Test path:\", paths)\n",
    "except AttributeError as e:\n",
    "    print(\"Error:\", str(e))"
   ]
  },
  {
   "cell_type": "code",
   "execution_count": null,
   "metadata": {},
   "outputs": [],
   "source": []
  }
 ],
 "metadata": {
  "kernelspec": {
   "display_name": "venv",
   "language": "python",
   "name": "python3"
  },
  "language_info": {
   "codemirror_mode": {
    "name": "ipython",
    "version": 3
   },
   "file_extension": ".py",
   "mimetype": "text/x-python",
   "name": "python",
   "nbconvert_exporter": "python",
   "pygments_lexer": "ipython3",
   "version": "3.12.9"
  }
 },
 "nbformat": 4,
 "nbformat_minor": 2
}
