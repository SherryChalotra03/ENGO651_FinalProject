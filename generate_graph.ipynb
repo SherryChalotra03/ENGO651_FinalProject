{
 "cells": [
  {
   "cell_type": "markdown",
   "metadata": {},
   "source": [
    "1. Install Python Libraries: Ensure you have osmnx, geopandas, and geojson installed\n",
    "pip install osmnx geopandas geojson"
   ]
  },
  {
   "cell_type": "markdown",
   "metadata": {},
   "source": [
    "2. Extract OSM Road Network with osmnx\n",
    "Since your project uses osmnx, let’s fetch Calgary’s road network and export it as GeoJSON (compatible with Mapbox/Leaflet)."
   ]
  },
  {
   "cell_type": "code",
   "execution_count": 10,
   "metadata": {},
   "outputs": [],
   "source": [
    "import osmnx as ox  # type: ignore\n",
    "import geopandas as gpd"
   ]
  },
  {
   "cell_type": "code",
   "execution_count": 14,
   "metadata": {},
   "outputs": [],
   "source": [
    "# Define the place (Calgary)\n",
    "place_name = \"Calgary, Alberta, Canada\"\n",
    "\n",
    "# Fetch the road network (drivable roads)\n",
    "G = ox.graph_from_place(place_name, network_type=\"drive\")\n",
    "\n",
    "# Convert the graph to GeoDataFrames (nodes and edges)\n",
    "nodes, edges = ox.graph_to_gdfs(G)\n"
   ]
  },
  {
   "cell_type": "code",
   "execution_count": 15,
   "metadata": {},
   "outputs": [
    {
     "name": "stdout",
     "output_type": "stream",
     "text": [
      "Available columns in edges: ['osmid', 'highway', 'lanes', 'maxspeed', 'name', 'oneway', 'ref', 'reversed', 'length', 'geometry', 'width', 'bridge', 'tunnel', 'junction', 'access']\n",
      "Number of edges in G: 36044\n",
      "Number of rows in edges GeoDataFrame: 84931\n"
     ]
    }
   ],
   "source": [
    "#Before saving\n",
    "print(\"Available columns in edges:\", edges.columns.tolist())\n",
    "print(f\"Number of edges in G: {len(G)}\")\n",
    "print(f\"Number of rows in edges GeoDataFrame: {len(edges)}\")"
   ]
  },
  {
   "cell_type": "code",
   "execution_count": null,
   "metadata": {},
   "outputs": [],
   "source": [
    "# Save edges as GeoJSON (this will be your road network)\n",
    "edges.to_file(\"calgary_roads.geojson\", driver=\"GeoJSON\")\n",
    "\n",
    "print(\"Calgary road network saved as calgary_roads.geojson\")"
   ]
  },
  {
   "cell_type": "code",
   "execution_count": 3,
   "metadata": {},
   "outputs": [
    {
     "name": "stdout",
     "output_type": "stream",
     "text": [
      "Available columns in edges: ['osmid', 'highway', 'lanes', 'maxspeed', 'name', 'oneway', 'ref', 'reversed', 'length', 'geometry', 'width', 'bridge', 'tunnel', 'junction', 'access']\n"
     ]
    }
   ],
   "source": [
    "# Inspect available columns\n",
    "print(\"Available columns in edges:\", edges.columns.tolist())"
   ]
  },
  {
   "cell_type": "markdown",
   "metadata": {},
   "source": [
    "Dataset exploration for analysing the max speed feature "
   ]
  },
  {
   "cell_type": "code",
   "execution_count": 9,
   "metadata": {},
   "outputs": [
    {
     "name": "stdout",
     "output_type": "stream",
     "text": [
      "Total number of edges: 36044\n"
     ]
    }
   ],
   "source": [
    "# Total number of edges (rows)\n",
    "total_edges = len(G)\n",
    "print(f\"Total number of edges: {total_edges}\")"
   ]
  },
  {
   "cell_type": "code",
   "execution_count": 12,
   "metadata": {},
   "outputs": [
    {
     "name": "stderr",
     "output_type": "stream",
     "text": [
      "Skipping field highway: unsupported OGR type: 5\n",
      "Skipping field lanes: unsupported OGR type: 5\n",
      "Skipping field maxspeed: unsupported OGR type: 5\n",
      "Skipping field name: unsupported OGR type: 5\n",
      "Skipping field access: unsupported OGR type: 5\n"
     ]
    },
    {
     "name": "stdout",
     "output_type": "stream",
     "text": [
      "Available columns: ['u', 'v', 'key', 'osmid', 'oneway', 'ref', 'reversed', 'length', 'width', 'bridge', 'tunnel', 'junction', 'geometry']\n",
      "Total number of edges: 84931\n"
     ]
    }
   ],
   "source": [
    "gdf = gpd.read_file('calgary_roads.geojson')\n",
    "\n",
    "# Display the available columns\n",
    "print(\"Available columns:\", gdf.columns.tolist())\n",
    "\n",
    "# Total number of edges (rows)\n",
    "total_edges = len(gdf)\n",
    "print(f\"Total number of edges: {total_edges}\")"
   ]
  },
  {
   "cell_type": "code",
   "execution_count": 5,
   "metadata": {},
   "outputs": [
    {
     "name": "stdout",
     "output_type": "stream",
     "text": [
      "Downloading road network...\n"
     ]
    }
   ],
   "source": [
    "# Define the place\n",
    "place_name = \"Calgary, Alberta, Canada\"\n",
    "\n",
    "# Fetch the road network\n",
    "print(\"Downloading road network...\")\n",
    "G = ox.graph_from_place(place_name, network_type=\"drive\")"
   ]
  },
  {
   "cell_type": "code",
   "execution_count": 9,
   "metadata": {},
   "outputs": [
    {
     "name": "stdout",
     "output_type": "stream",
     "text": [
      "Added speeds and travel times to the graph\n",
      "Graph saved as calgary_roads.graphml\n"
     ]
    }
   ],
   "source": [
    "# Add edge speeds and travel times\n",
    "hwy_speeds = {\n",
    "    'motorway': 100,\n",
    "    'trunk': 80,\n",
    "    'primary': 60,\n",
    "    'secondary': 60,\n",
    "    'tertiary': 50,\n",
    "    'residential': 40,\n",
    "    'motorway_link': 60,\n",
    "    'primary_link': 50,\n",
    "    'secondary_link': 50,\n",
    "    'tertiary_link': 40\n",
    "}\n",
    "G = ox.add_edge_speeds(G, hwy_speeds=hwy_speeds)\n",
    "G = ox.add_edge_travel_times(G)\n",
    "print(\"Added speeds and travel times to the graph\")\n",
    "\n",
    "# Save the graph as GraphML\n",
    "ox.save_graphml(G, filepath=\"calgary_roads.graphml\")\n",
    "print(\"Graph saved as calgary_roads.graphml\")\n",
    "\n",
    "# Convert the graph to GeoDataFrames\n",
    "nodes, edges = ox.graph_to_gdfs(G)\n",
    "\n",
    "# Add the 'time' column to the edges GeoDataFrame (travel_time in seconds)\n",
    "edges['time'] = edges['travel_time']\n",
    "\n"
   ]
  },
  {
   "cell_type": "code",
   "execution_count": 10,
   "metadata": {},
   "outputs": [
    {
     "name": "stdout",
     "output_type": "stream",
     "text": [
      "Updated calgary_roads.geojson with 'time' column\n",
      "Available columns in edges: ['osmid', 'highway', 'lanes', 'maxspeed', 'name', 'oneway', 'ref', 'reversed', 'length', 'geometry', 'speed_kph', 'travel_time', 'width', 'bridge', 'tunnel', 'junction', 'access', 'time']\n",
      "Number of edges in G: 36044\n",
      "Number of rows in edges GeoDataFrame: 84931\n"
     ]
    }
   ],
   "source": [
    "# Preprocess columns to handle lists\n",
    "for col in ['osmid', 'highway', 'lanes', 'maxspeed', 'name', 'access', 'ref']:\n",
    "    edges[col] = edges[col].apply(lambda x: ','.join(map(str, x)) if isinstance(x, list) else x)\n",
    "\n",
    "# Save the updated edges as GeoJSON\n",
    "edges.to_file(\"calgary_roads.geojson\", driver=\"GeoJSON\")\n",
    "print(\"Updated calgary_roads.geojson with 'time' column\")\n",
    "print(\"Available columns in edges:\", edges.columns.tolist())\n",
    "print(f\"Number of edges in G: {len(G)}\")\n",
    "print(f\"Number of rows in edges GeoDataFrame: {len(edges)}\")"
   ]
  },
  {
   "cell_type": "markdown",
   "metadata": {},
   "source": [
    "# working with .pkl file"
   ]
  },
  {
   "cell_type": "code",
   "execution_count": 18,
   "metadata": {},
   "outputs": [],
   "source": [
    "import pickle \n",
    "import networkx as nx\n",
    "from shapely.geometry import *"
   ]
  },
  {
   "cell_type": "code",
   "execution_count": 15,
   "metadata": {},
   "outputs": [
    {
     "name": "stdout",
     "output_type": "stream",
     "text": [
      "Graph loaded successfully\n"
     ]
    }
   ],
   "source": [
    "try:\n",
    "    with open(\"road_network.pkl\", \"rb\") as f:\n",
    "        G = pickle.load(f)\n",
    "    print(\"Graph loaded successfully\")\n",
    "except Exception as e:\n",
    "    print(f\"Error loading graph: {str(e)}\")\n",
    "    raise"
   ]
  },
  {
   "cell_type": "code",
   "execution_count": 21,
   "metadata": {},
   "outputs": [
    {
     "name": "stdout",
     "output_type": "stream",
     "text": [
      "Graph type: <class 'networkx.classes.digraph.DiGraph'>\n",
      "Number of nodes: 205712\n",
      "Number of edges: 353392\n",
      "Edge (0, 1): {'weight': 0.004307553454995775, 'risk': 11.0, 'length': np.float64(254.44158436120424), 'road_id': 0, 'maxspeed': 100.0, 'oneway': 1}\n",
      "Edge (0, 34): {'weight': 0.007851559568977751, 'risk': 4.0, 'length': np.float64(20.34532124191739), 'road_id': 1, 'maxspeed': 0.0, 'oneway': 1}\n",
      "Edge (1, 2): {'weight': 0.004307553454995775, 'risk': 11.0, 'length': np.float64(94.93504251633524), 'road_id': 0, 'maxspeed': 100.0, 'oneway': 1}\n",
      "Edge (2, 3): {'weight': 0.004307553454995775, 'risk': 11.0, 'length': np.float64(58.72162428403302), 'road_id': 0, 'maxspeed': 100.0, 'oneway': 1}\n",
      "Edge (3, 4): {'weight': 0.004307553454995775, 'risk': 11.0, 'length': np.float64(95.85975589628289), 'road_id': 0, 'maxspeed': 100.0, 'oneway': 1}\n"
     ]
    }
   ],
   "source": [
    "# Verify the graph type and structure\n",
    "print(f\"Graph type: {type(G)}\")\n",
    "print(f\"Number of nodes: {G.number_of_nodes()}\")\n",
    "print(f\"Number of edges: {G.number_of_edges()}\")\n",
    "\n",
    "# Inspect a few edges to see the new weights\n",
    "for u, v, data in list(G.edges(data=True))[:5]:  # Look at the first 5 edges\n",
    "    print(f\"Edge ({u}, {v}): {data}\")"
   ]
  },
  {
   "cell_type": "code",
   "execution_count": null,
   "metadata": {},
   "outputs": [],
   "source": []
  },
  {
   "cell_type": "code",
   "execution_count": 20,
   "metadata": {},
   "outputs": [],
   "source": [
    "# Convert edges to GeoDataFrame\n",
    "edges = []\n",
    "for u, v, data in G.edges(data=True):\n",
    "    if \"geometry\" in data:  # Some roads have detailed geometry\n",
    "        geom = data[\"geometry\"]\n",
    "    else:\n",
    "        geom = LineString([(G.nodes[u][\"pos\"][0], G.nodes[u][\"pos\"][1]),\n",
    "                          (G.nodes[v][\"pos\"][0], G.nodes[v][\"pos\"][1])])\n",
    " \n",
    "    edges.append({\"geometry\": geom, \"risk_score\": data[\"weight\"]})\n",
    " \n",
    "gdf = gpd.GeoDataFrame(edges, crs=\"EPSG:32611\")\n",
    "gdf.to_crs('epsg:4326', inplace=True)\n",
    " "
   ]
  },
  {
   "cell_type": "markdown",
   "metadata": {},
   "source": [
    "3. regenerate calgary_roads.geojson with the required properties: \"incident_risk\" (e.g., from DBSCAN) \n",
    "Next: Update incident_risk with DBSCAN clustering logic"
   ]
  },
  {
   "cell_type": "code",
   "execution_count": 5,
   "metadata": {},
   "outputs": [
    {
     "name": "stdout",
     "output_type": "stream",
     "text": [
      "Added incident_risk column with default value 0.0\n"
     ]
    }
   ],
   "source": [
    "# Ensure osmid and name are present (osmnx should include these)\n",
    "# Add incident_risk if missing (dummy data for now)\n",
    "if 'incident_risk' not in edges.columns:\n",
    "    edges['incident_risk'] = 0.0  # Replace with your DBSCAN logic later\n",
    "    print(\"Added incident_risk column with default value 0.0\")"
   ]
  },
  {
   "cell_type": "code",
   "execution_count": 6,
   "metadata": {},
   "outputs": [
    {
     "name": "stdout",
     "output_type": "stream",
     "text": [
      "Saved calgary_roads.geojson with properties\n"
     ]
    }
   ],
   "source": [
    "# Save to GeoJSON\n",
    "edges.to_file(\"calgary_roads.geojson\", driver=\"GeoJSON\")\n",
    "print(\"Saved calgary_roads.geojson with properties\")"
   ]
  },
  {
   "cell_type": "code",
   "execution_count": 7,
   "metadata": {},
   "outputs": [
    {
     "name": "stdout",
     "output_type": "stream",
     "text": [
      "Available columns in edges: ['osmid', 'highway', 'lanes', 'maxspeed', 'name', 'oneway', 'ref', 'reversed', 'length', 'geometry', 'width', 'bridge', 'tunnel', 'junction', 'access', 'incident_risk']\n"
     ]
    }
   ],
   "source": [
    "# Inspect available columns\n",
    "print(\"Available columns in edges:\", edges.columns.tolist())"
   ]
  },
  {
   "cell_type": "code",
   "execution_count": 8,
   "metadata": {},
   "outputs": [
    {
     "name": "stdout",
     "output_type": "stream",
     "text": [
      "Graph saved as calgary_roads.graphml\n"
     ]
    }
   ],
   "source": [
    "# Save the graph as GraphML (or another format) to use it locally\n",
    "ox.save_graphml(G, filepath=\"calgary_roads.graphml\")\n",
    "print(\"Graph saved as calgary_roads.graphml\")"
   ]
  },
  {
   "cell_type": "code",
   "execution_count": 12,
   "metadata": {},
   "outputs": [
    {
     "name": "stdout",
     "output_type": "stream",
     "text": [
      "NetworkX version: 3.4.2\n",
      "k_shortest_paths available: False\n",
      "Error: module 'networkx' has no attribute 'k_shortest_paths'\n"
     ]
    }
   ],
   "source": [
    "import networkx as nx\n",
    "\n",
    "print(\"NetworkX version:\", nx.__version__)\n",
    "try:\n",
    "    print(\"k_shortest_paths available:\", hasattr(nx, 'k_shortest_paths'))\n",
    "    # Create a simple MultiDiGraph\n",
    "    G = nx.MultiDiGraph()\n",
    "    G.add_edge(0, 1, 0, weight=1)\n",
    "    G.add_edge(1, 2, 0, weight=1)\n",
    "    paths = list(nx.k_shortest_paths(G, 0, 2, k=1, weight='weight'))\n",
    "    print(\"Test path:\", paths)\n",
    "except AttributeError as e:\n",
    "    print(\"Error:\", str(e))"
   ]
  },
  {
   "cell_type": "code",
   "execution_count": 1,
   "metadata": {},
   "outputs": [
    {
     "name": "stdout",
     "output_type": "stream",
     "text": [
      "NetworkX version: 3.4.2\n",
      "k_shortest_paths available: False\n",
      "Error: module 'networkx' has no attribute 'k_shortest_paths'\n"
     ]
    }
   ],
   "source": [
    "# test_networkx.py\n",
    "import networkx as nx\n",
    "\n",
    "print(\"NetworkX version:\", nx.__version__)\n",
    "try:\n",
    "    print(\"k_shortest_paths available:\", hasattr(nx, 'k_shortest_paths'))\n",
    "    # Create a simple MultiDiGraph\n",
    "    G = nx.MultiDiGraph()\n",
    "    G.add_edge(0, 1, 0, weight=1)\n",
    "    G.add_edge(1, 2, 0, weight=1)\n",
    "    paths = list(nx.k_shortest_paths(G, 0, 2, k=1, weight='weight'))\n",
    "    print(\"Test path:\", paths)\n",
    "except AttributeError as e:\n",
    "    print(\"Error:\", str(e))"
   ]
  },
  {
   "cell_type": "code",
   "execution_count": null,
   "metadata": {},
   "outputs": [],
   "source": []
  }
 ],
 "metadata": {
  "kernelspec": {
   "display_name": "venv",
   "language": "python",
   "name": "python3"
  },
  "language_info": {
   "codemirror_mode": {
    "name": "ipython",
    "version": 3
   },
   "file_extension": ".py",
   "mimetype": "text/x-python",
   "name": "python",
   "nbconvert_exporter": "python",
   "pygments_lexer": "ipython3",
   "version": "3.12.9"
  }
 },
 "nbformat": 4,
 "nbformat_minor": 2
}
