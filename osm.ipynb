{
 "cells": [
  {
   "cell_type": "markdown",
   "metadata": {},
   "source": [
    "1. Install Python Libraries: Ensure you have osmnx, geopandas, and geojson installed\n",
    "pip install osmnx geopandas geojson"
   ]
  },
  {
   "cell_type": "markdown",
   "metadata": {},
   "source": [
    "2. Extract OSM Road Network with osmnx\n",
    "Since your project uses osmnx, let’s fetch Calgary’s road network and export it as GeoJSON (compatible with Mapbox/Leaflet)."
   ]
  },
  {
   "cell_type": "code",
   "execution_count": 3,
   "metadata": {},
   "outputs": [],
   "source": [
    "import osmnx as ox"
   ]
  },
  {
   "cell_type": "code",
   "execution_count": 2,
   "metadata": {},
   "outputs": [
    {
     "name": "stdout",
     "output_type": "stream",
     "text": [
      "Calgary road network saved as calgary_roads.geojson\n"
     ]
    }
   ],
   "source": [
    "# Define the place (Calgary)\n",
    "place_name = \"Calgary, Alberta, Canada\"\n",
    "\n",
    "# Fetch the road network (drivable roads)\n",
    "G = ox.graph_from_place(place_name, network_type=\"drive\")\n",
    "\n",
    "# Convert the graph to GeoDataFrames (nodes and edges)\n",
    "nodes, edges = ox.graph_to_gdfs(G)\n",
    "\n",
    "# Save edges as GeoJSON (this will be your road network)\n",
    "edges.to_file(\"calgary_roads.geojson\", driver=\"GeoJSON\")\n",
    "\n",
    "print(\"Calgary road network saved as calgary_roads.geojson\")"
   ]
  },
  {
   "cell_type": "code",
   "execution_count": 4,
   "metadata": {},
   "outputs": [
    {
     "name": "stdout",
     "output_type": "stream",
     "text": [
      "Available columns in edges: ['osmid', 'highway', 'lanes', 'maxspeed', 'name', 'oneway', 'ref', 'reversed', 'length', 'geometry', 'width', 'bridge', 'tunnel', 'junction', 'access']\n"
     ]
    }
   ],
   "source": [
    "# Inspect available columns\n",
    "print(\"Available columns in edges:\", edges.columns.tolist())"
   ]
  },
  {
   "cell_type": "markdown",
   "metadata": {},
   "source": [
    "3. regenerate calgary_roads.geojson with the required properties: \"incident_risk\" (e.g., from DBSCAN) \n",
    "Next: Update incident_risk with DBSCAN clustering logic"
   ]
  },
  {
   "cell_type": "code",
   "execution_count": 5,
   "metadata": {},
   "outputs": [
    {
     "name": "stdout",
     "output_type": "stream",
     "text": [
      "Added incident_risk column with default value 0.0\n"
     ]
    }
   ],
   "source": [
    "# Ensure osmid and name are present (osmnx should include these)\n",
    "# Add incident_risk if missing (dummy data for now)\n",
    "if 'incident_risk' not in edges.columns:\n",
    "    edges['incident_risk'] = 0.0  # Replace with your DBSCAN logic later\n",
    "    print(\"Added incident_risk column with default value 0.0\")"
   ]
  },
  {
   "cell_type": "code",
   "execution_count": 6,
   "metadata": {},
   "outputs": [
    {
     "name": "stdout",
     "output_type": "stream",
     "text": [
      "Saved calgary_roads.geojson with properties\n"
     ]
    }
   ],
   "source": [
    "# Save to GeoJSON\n",
    "edges.to_file(\"calgary_roads.geojson\", driver=\"GeoJSON\")\n",
    "print(\"Saved calgary_roads.geojson with properties\")"
   ]
  },
  {
   "cell_type": "code",
   "execution_count": 7,
   "metadata": {},
   "outputs": [
    {
     "name": "stdout",
     "output_type": "stream",
     "text": [
      "Available columns in edges: ['osmid', 'highway', 'lanes', 'maxspeed', 'name', 'oneway', 'ref', 'reversed', 'length', 'geometry', 'width', 'bridge', 'tunnel', 'junction', 'access', 'incident_risk']\n"
     ]
    }
   ],
   "source": [
    "# Inspect available columns\n",
    "print(\"Available columns in edges:\", edges.columns.tolist())"
   ]
  },
  {
   "cell_type": "code",
   "execution_count": 8,
   "metadata": {},
   "outputs": [
    {
     "name": "stdout",
     "output_type": "stream",
     "text": [
      "Graph saved as calgary_roads.graphml\n"
     ]
    }
   ],
   "source": [
    "# Save the graph as GraphML (or another format) to use it locally\n",
    "ox.save_graphml(G, filepath=\"calgary_roads.graphml\")\n",
    "print(\"Graph saved as calgary_roads.graphml\")"
   ]
  }
 ],
 "metadata": {
  "kernelspec": {
   "display_name": "venv",
   "language": "python",
   "name": "python3"
  },
  "language_info": {
   "codemirror_mode": {
    "name": "ipython",
    "version": 3
   },
   "file_extension": ".py",
   "mimetype": "text/x-python",
   "name": "python",
   "nbconvert_exporter": "python",
   "pygments_lexer": "ipython3",
   "version": "3.12.9"
  }
 },
 "nbformat": 4,
 "nbformat_minor": 2
}
